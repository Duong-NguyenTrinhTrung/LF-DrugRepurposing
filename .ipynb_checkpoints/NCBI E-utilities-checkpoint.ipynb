{
 "cells": [
  {
   "cell_type": "code",
   "execution_count": 1,
   "id": "affcc903",
   "metadata": {},
   "outputs": [],
   "source": [
    "base_url = \"https://eutils.ncbi.nlm.nih.gov/entrez/eutils/\""
   ]
  },
  {
   "cell_type": "code",
   "execution_count": 5,
   "id": "6fecc799",
   "metadata": {},
   "outputs": [],
   "source": [
    "import requests\n",
    "def request(url):\n",
    "    \n",
    "    # Send an HTTP GET request to the URL\n",
    "    response = requests.get(url)\n",
    "\n",
    "    # Check if the request was successful (status code 200)\n",
    "    if response.status_code == 200:\n",
    "        # Parse the response content as text\n",
    "        data = response.text\n",
    "        # Now, 'data' contains the response data from the URL\n",
    "#         print(data)\n",
    "    else:\n",
    "        data=\"\"\n",
    "#         print(\"Failed to retrieve data. Status code:\", response.status_code)\n",
    "    return data"
   ]
  },
  {
   "cell_type": "code",
   "execution_count": 6,
   "id": "795359a8",
   "metadata": {},
   "outputs": [
    {
     "name": "stdout",
     "output_type": "stream",
     "text": [
      "<?xml version=\"1.0\" encoding=\"UTF-8\" ?>\n",
      "<!DOCTYPE eSearchResult PUBLIC \"-//NLM//DTD esearch 20060628//EN\" \"https://eutils.ncbi.nlm.nih.gov/eutils/dtd/20060628/esearch.dtd\">\n",
      "<eSearchResult><Count>6</Count><RetMax>6</RetMax><RetStart>0</RetStart><IdList>\n",
      "<Id>19008416</Id>\n",
      "<Id>18927361</Id>\n",
      "<Id>18787170</Id>\n",
      "<Id>18487186</Id>\n",
      "<Id>18239126</Id>\n",
      "<Id>18239125</Id>\n",
      "</IdList><TranslationSet><Translation>     <From>science[journal]</From>     <To>\"Science\"[Journal:__jid0404511] OR \"Science (1979)\"[Journal:__jid8000640]</To>    </Translation><Translation>     <From>breast cancer</From>     <To>\"breast neoplasms\"[MeSH Terms] OR (\"breast\"[All Fields] AND \"neoplasms\"[All Fields]) OR \"breast neoplasms\"[All Fields] OR (\"breast\"[All Fields] AND \"cancer\"[All Fields]) OR \"breast cancer\"[All Fields]</To>    </Translation></TranslationSet><QueryTranslation>(\"science\"[Journal] OR \"science 1979\"[Journal]) AND (\"breast neoplasms\"[MeSH Terms] OR (\"breast\"[All Fields] AND \"neoplasms\"[All Fields]) OR \"breast neoplasms\"[All Fields] OR (\"breast\"[All Fields] AND \"cancer\"[All Fields]) OR \"breast cancer\"[All Fields]) AND 2008/01/01:2008/12/31[Date - Publication]</QueryTranslation></eSearchResult>\n",
      "\n"
     ]
    }
   ],
   "source": [
    "# Basic Searching\n",
    "# Input: Entrez database (&db); Any Entrez text query (&term)\n",
    "# Output: List of UIDs matching the Entrez query\n",
    "url = \"https://eutils.ncbi.nlm.nih.gov/entrez/eutils/esearch.fcgi?db=pubmed&term=science[journal]%20+AND+breast+cancer+AND+2008[pdat]\"\n",
    "data = request(url)\n",
    "print(data)"
   ]
  },
  {
   "cell_type": "code",
   "execution_count": 7,
   "id": "4fe2520e",
   "metadata": {},
   "outputs": [
    {
     "name": "stdout",
     "output_type": "stream",
     "text": [
      "<?xml version=\"1.0\" encoding=\"UTF-8\" ?>\n",
      "<!DOCTYPE eSearchResult PUBLIC \"-//NLM//DTD esearch 20060628//EN\" \"https://eutils.ncbi.nlm.nih.gov/eutils/dtd/20060628/esearch.dtd\">\n",
      "<eSearchResult><Count>6</Count><RetMax>6</RetMax><RetStart>0</RetStart><QueryKey>1</QueryKey><WebEnv>MCID_6522d7bdf023107ca23f845a</WebEnv><IdList>\n",
      "<Id>19008416</Id>\n",
      "<Id>18927361</Id>\n",
      "<Id>18787170</Id>\n",
      "<Id>18487186</Id>\n",
      "<Id>18239126</Id>\n",
      "<Id>18239125</Id>\n",
      "</IdList><TranslationSet><Translation>     <From>science[journal]</From>     <To>\"Science\"[Journal:__jid0404511] OR \"Science (1979)\"[Journal:__jid8000640]</To>    </Translation><Translation>     <From>breast cancer</From>     <To>\"breast neoplasms\"[MeSH Terms] OR (\"breast\"[All Fields] AND \"neoplasms\"[All Fields]) OR \"breast neoplasms\"[All Fields] OR (\"breast\"[All Fields] AND \"cancer\"[All Fields]) OR \"breast cancer\"[All Fields]</To>    </Translation></TranslationSet><QueryTranslation>(\"science\"[Journal] OR \"science 1979\"[Journal]) AND (\"breast neoplasms\"[MeSH Terms] OR (\"breast\"[All Fields] AND \"neoplasms\"[All Fields]) OR \"breast neoplasms\"[All Fields] OR (\"breast\"[All Fields] AND \"cancer\"[All Fields]) OR \"breast cancer\"[All Fields]) AND 2008/01/01:2008/12/31[Date - Publication]</QueryTranslation></eSearchResult>\n",
      "\n"
     ]
    }
   ],
   "source": [
    "# Storing Search Results\n",
    "# Input: Any Entrez text query (&term); Entrez database (&db); &usehistory=y\n",
    "# Output: Web environment (&WebEnv) and query key (&query_key) parameters specifying the location on the Entrez history server of the list of UIDs matching the Entrez query\n",
    "url = \"https://eutils.ncbi.nlm.nih.gov/entrez/eutils/esearch.fcgi?db=pubmed&term=science[journal] +AND+breast+cancer+AND+2008[pdat]&usehistory=y\"\n",
    "data = request(url)\n",
    "print(data)"
   ]
  },
  {
   "cell_type": "code",
   "execution_count": null,
   "id": "0df78d5d",
   "metadata": {},
   "outputs": [],
   "source": []
  }
 ],
 "metadata": {
  "kernelspec": {
   "display_name": "Python 3 (ipykernel)",
   "language": "python",
   "name": "python3"
  },
  "language_info": {
   "codemirror_mode": {
    "name": "ipython",
    "version": 3
   },
   "file_extension": ".py",
   "mimetype": "text/x-python",
   "name": "python",
   "nbconvert_exporter": "python",
   "pygments_lexer": "ipython3",
   "version": "3.9.12"
  }
 },
 "nbformat": 4,
 "nbformat_minor": 5
}
